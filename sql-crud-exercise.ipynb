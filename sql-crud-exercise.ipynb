{
 "cells": [
  {
   "cell_type": "markdown",
   "metadata": {},
   "source": [
    "### Practice Excercise"
   ]
  },
  {
   "cell_type": "markdown",
   "metadata": {},
   "source": [
    "**Objective:**\n",
    "Practice performing CRUD operations (Create, Read, Update, Delete) on a database table.\n",
    "**Perform the following tasks:**\n",
    "1. Create a new table named `Books`, with the following columns:\n",
    "  * BookID (Primary Key, Auto-increment)\n",
    "  * Title (Title of the book)\n",
    "  * Author (Author of the book)\n",
    "  * Genre (Genre of the book)\n",
    "  * Publication_Year (Year of publication)\n",
    "  * Price (Price of the Book)\n",
    "2. Insert at least 3 new books into the `Books` table.\n",
    "3. Retrieve all books from the Books table.\n",
    "4. Update the price of a specific book.\n",
    "5. Delete a book from the table."
   ]
  },
  {
   "cell_type": "code",
   "execution_count": 2,
   "metadata": {},
   "outputs": [
    {
     "name": "stdout",
     "output_type": "stream",
     "text": [
      "Requirement already satisfied: ipython-sql in c:\\users\\admin\\appdata\\local\\programs\\python\\python312\\lib\\site-packages (0.5.0)\n",
      "Requirement already satisfied: prettytable in c:\\users\\admin\\appdata\\local\\programs\\python\\python312\\lib\\site-packages (from ipython-sql) (3.10.0)\n",
      "Requirement already satisfied: ipython in c:\\users\\admin\\appdata\\roaming\\python\\python312\\site-packages (from ipython-sql) (8.25.0)\n",
      "Requirement already satisfied: sqlalchemy>=2.0 in c:\\users\\admin\\appdata\\local\\programs\\python\\python312\\lib\\site-packages (from ipython-sql) (2.0.30)\n",
      "Requirement already satisfied: sqlparse in c:\\users\\admin\\appdata\\local\\programs\\python\\python312\\lib\\site-packages (from ipython-sql) (0.5.0)\n",
      "Requirement already satisfied: six in c:\\users\\admin\\appdata\\roaming\\python\\python312\\site-packages (from ipython-sql) (1.16.0)\n",
      "Requirement already satisfied: ipython-genutils in c:\\users\\admin\\appdata\\local\\programs\\python\\python312\\lib\\site-packages (from ipython-sql) (0.2.0)\n",
      "Requirement already satisfied: typing-extensions>=4.6.0 in c:\\users\\admin\\appdata\\local\\programs\\python\\python312\\lib\\site-packages (from sqlalchemy>=2.0->ipython-sql) (4.12.2)\n",
      "Requirement already satisfied: greenlet!=0.4.17 in c:\\users\\admin\\appdata\\local\\programs\\python\\python312\\lib\\site-packages (from sqlalchemy>=2.0->ipython-sql) (3.0.3)\n",
      "Requirement already satisfied: decorator in c:\\users\\admin\\appdata\\roaming\\python\\python312\\site-packages (from ipython->ipython-sql) (5.1.1)\n",
      "Requirement already satisfied: jedi>=0.16 in c:\\users\\admin\\appdata\\roaming\\python\\python312\\site-packages (from ipython->ipython-sql) (0.19.1)\n",
      "Requirement already satisfied: matplotlib-inline in c:\\users\\admin\\appdata\\roaming\\python\\python312\\site-packages (from ipython->ipython-sql) (0.1.7)\n",
      "Requirement already satisfied: prompt-toolkit<3.1.0,>=3.0.41 in c:\\users\\admin\\appdata\\roaming\\python\\python312\\site-packages (from ipython->ipython-sql) (3.0.46)\n",
      "Requirement already satisfied: pygments>=2.4.0 in c:\\users\\admin\\appdata\\roaming\\python\\python312\\site-packages (from ipython->ipython-sql) (2.18.0)\n",
      "Requirement already satisfied: stack-data in c:\\users\\admin\\appdata\\roaming\\python\\python312\\site-packages (from ipython->ipython-sql) (0.6.3)\n",
      "Requirement already satisfied: traitlets>=5.13.0 in c:\\users\\admin\\appdata\\roaming\\python\\python312\\site-packages (from ipython->ipython-sql) (5.14.3)\n",
      "Requirement already satisfied: colorama in c:\\users\\admin\\appdata\\roaming\\python\\python312\\site-packages (from ipython->ipython-sql) (0.4.6)\n",
      "Requirement already satisfied: wcwidth in c:\\users\\admin\\appdata\\roaming\\python\\python312\\site-packages (from prettytable->ipython-sql) (0.2.13)\n",
      "Requirement already satisfied: parso<0.9.0,>=0.8.3 in c:\\users\\admin\\appdata\\roaming\\python\\python312\\site-packages (from jedi>=0.16->ipython->ipython-sql) (0.8.4)\n",
      "Requirement already satisfied: executing>=1.2.0 in c:\\users\\admin\\appdata\\roaming\\python\\python312\\site-packages (from stack-data->ipython->ipython-sql) (2.0.1)\n",
      "Requirement already satisfied: asttokens>=2.1.0 in c:\\users\\admin\\appdata\\roaming\\python\\python312\\site-packages (from stack-data->ipython->ipython-sql) (2.4.1)\n",
      "Requirement already satisfied: pure-eval in c:\\users\\admin\\appdata\\roaming\\python\\python312\\site-packages (from stack-data->ipython->ipython-sql) (0.2.2)\n",
      "Note: you may need to restart the kernel to use updated packages.\n"
     ]
    }
   ],
   "source": [
    "%pip install ipython-sql"
   ]
  },
  {
   "cell_type": "code",
   "execution_count": 3,
   "metadata": {},
   "outputs": [],
   "source": [
    "%load_ext sql"
   ]
  },
  {
   "cell_type": "code",
   "execution_count": 4,
   "metadata": {},
   "outputs": [],
   "source": [
    "%sql sqlite:///sql-database.db"
   ]
  },
  {
   "cell_type": "code",
   "execution_count": 14,
   "metadata": {},
   "outputs": [
    {
     "name": "stdout",
     "output_type": "stream",
     "text": [
      " * sqlite:///sql-database.db\n",
      "Done.\n"
     ]
    },
    {
     "data": {
      "text/plain": [
       "[]"
      ]
     },
     "execution_count": 14,
     "metadata": {},
     "output_type": "execute_result"
    }
   ],
   "source": [
    "%%sql\n",
    "CREATE TABLE IF NOT EXISTS Books (\n",
    "    BookId INT Primary Key Not Null,\n",
    "    Title VARCHAR(255) Not Null,\n",
    "    Author VARCHAR(255) Not Null,\n",
    "    Genre VARCHAR(100) Not Null,\n",
    "    Publication_Year INT Not Null,\n",
    "    Price FLOAT(10,2) Not Null\n",
    ");"
   ]
  },
  {
   "cell_type": "code",
   "execution_count": 43,
   "metadata": {},
   "outputs": [
    {
     "name": "stdout",
     "output_type": "stream",
     "text": [
      " * sqlite:///sql-database.db\n",
      "Done.\n"
     ]
    },
    {
     "data": {
      "text/html": [
       "<table>\n",
       "    <thead>\n",
       "        <tr>\n",
       "            <th>name</th>\n",
       "        </tr>\n",
       "    </thead>\n",
       "    <tbody>\n",
       "    </tbody>\n",
       "</table>"
      ],
      "text/plain": [
       "[]"
      ]
     },
     "execution_count": 43,
     "metadata": {},
     "output_type": "execute_result"
    }
   ],
   "source": [
    "%%sql\n",
    "SELECT name FROM sqlite_master WHERE type='Books';"
   ]
  },
  {
   "cell_type": "code",
   "execution_count": 15,
   "metadata": {},
   "outputs": [
    {
     "name": "stdout",
     "output_type": "stream",
     "text": [
      " * sqlite:///sql-database.db\n",
      "Done.\n"
     ]
    },
    {
     "data": {
      "text/html": [
       "<table>\n",
       "    <thead>\n",
       "        <tr>\n",
       "            <th>cid</th>\n",
       "            <th>name</th>\n",
       "            <th>type</th>\n",
       "            <th>notnull</th>\n",
       "            <th>dflt_value</th>\n",
       "            <th>pk</th>\n",
       "        </tr>\n",
       "    </thead>\n",
       "    <tbody>\n",
       "        <tr>\n",
       "            <td>0</td>\n",
       "            <td>BookID</td>\n",
       "            <td>INT</td>\n",
       "            <td>1</td>\n",
       "            <td>None</td>\n",
       "            <td>1</td>\n",
       "        </tr>\n",
       "        <tr>\n",
       "            <td>1</td>\n",
       "            <td>Title</td>\n",
       "            <td>VARCHAR(255)</td>\n",
       "            <td>1</td>\n",
       "            <td>None</td>\n",
       "            <td>0</td>\n",
       "        </tr>\n",
       "        <tr>\n",
       "            <td>2</td>\n",
       "            <td>Author</td>\n",
       "            <td>VARCHAR(255)</td>\n",
       "            <td>1</td>\n",
       "            <td>None</td>\n",
       "            <td>0</td>\n",
       "        </tr>\n",
       "        <tr>\n",
       "            <td>3</td>\n",
       "            <td>Genre</td>\n",
       "            <td>VARCHAR(50)</td>\n",
       "            <td>1</td>\n",
       "            <td>None</td>\n",
       "            <td>0</td>\n",
       "        </tr>\n",
       "        <tr>\n",
       "            <td>4</td>\n",
       "            <td>Pulication_Year</td>\n",
       "            <td>INT</td>\n",
       "            <td>1</td>\n",
       "            <td>None</td>\n",
       "            <td>0</td>\n",
       "        </tr>\n",
       "        <tr>\n",
       "            <td>5</td>\n",
       "            <td>Price</td>\n",
       "            <td>FLOAT(10,2)</td>\n",
       "            <td>1</td>\n",
       "            <td>None</td>\n",
       "            <td>0</td>\n",
       "        </tr>\n",
       "    </tbody>\n",
       "</table>"
      ],
      "text/plain": [
       "[(0, 'BookID', 'INT', 1, None, 1),\n",
       " (1, 'Title', 'VARCHAR(255)', 1, None, 0),\n",
       " (2, 'Author', 'VARCHAR(255)', 1, None, 0),\n",
       " (3, 'Genre', 'VARCHAR(50)', 1, None, 0),\n",
       " (4, 'Pulication_Year', 'INT', 1, None, 0),\n",
       " (5, 'Price', 'FLOAT(10,2)', 1, None, 0)]"
      ]
     },
     "execution_count": 15,
     "metadata": {},
     "output_type": "execute_result"
    }
   ],
   "source": [
    "%%sql\n",
    "PRAGMA table_info('Books');\n"
   ]
  },
  {
   "cell_type": "code",
   "execution_count": 19,
   "metadata": {},
   "outputs": [
    {
     "name": "stdout",
     "output_type": "stream",
     "text": [
      " * sqlite:///sql-database.db\n",
      "Done.\n"
     ]
    },
    {
     "data": {
      "text/plain": [
       "[]"
      ]
     },
     "execution_count": 19,
     "metadata": {},
     "output_type": "execute_result"
    }
   ],
   "source": [
    "%sql DROP TABLE Books;"
   ]
  },
  {
   "cell_type": "code",
   "execution_count": 20,
   "metadata": {},
   "outputs": [
    {
     "name": "stdout",
     "output_type": "stream",
     "text": [
      " * sqlite:///sql-database.db\n",
      "Done.\n"
     ]
    },
    {
     "data": {
      "text/html": [
       "<table>\n",
       "    <thead>\n",
       "        <tr>\n",
       "            <th>name</th>\n",
       "        </tr>\n",
       "    </thead>\n",
       "    <tbody>\n",
       "    </tbody>\n",
       "</table>"
      ],
      "text/plain": [
       "[]"
      ]
     },
     "execution_count": 20,
     "metadata": {},
     "output_type": "execute_result"
    }
   ],
   "source": [
    "%%sql\n",
    "SELECT name FROM sqlite_master WHERE type='table';"
   ]
  },
  {
   "cell_type": "code",
   "execution_count": 21,
   "metadata": {},
   "outputs": [
    {
     "name": "stdout",
     "output_type": "stream",
     "text": [
      " * sqlite:///sql-database.db\n",
      "Done.\n"
     ]
    },
    {
     "data": {
      "text/html": [
       "<table>\n",
       "    <thead>\n",
       "        <tr>\n",
       "            <th>cid</th>\n",
       "            <th>name</th>\n",
       "            <th>type</th>\n",
       "            <th>notnull</th>\n",
       "            <th>dflt_value</th>\n",
       "            <th>pk</th>\n",
       "        </tr>\n",
       "    </thead>\n",
       "    <tbody>\n",
       "    </tbody>\n",
       "</table>"
      ],
      "text/plain": [
       "[]"
      ]
     },
     "execution_count": 21,
     "metadata": {},
     "output_type": "execute_result"
    }
   ],
   "source": [
    "%%sql\n",
    "PRAGMA table_info('Books');"
   ]
  },
  {
   "cell_type": "code",
   "execution_count": 52,
   "metadata": {},
   "outputs": [
    {
     "name": "stdout",
     "output_type": "stream",
     "text": [
      " * sqlite:///sql-database.db\n",
      "(sqlite3.OperationalError) table Books already exists\n",
      "[SQL: Create table Books (\n",
      "    BookID INT Primary Key Not Null,\n",
      "    Title VARCHAR(255) Not Null,\n",
      "    Author VARCHAR(255) Not Null,\n",
      "    Genre VARCHAR(50) Not Null,\n",
      "    Pulication_Year INT Not Null,\n",
      "    Price FLOAT(10,2) Not Null\n",
      ")]\n",
      "(Background on this error at: https://sqlalche.me/e/20/e3q8)\n"
     ]
    }
   ],
   "source": [
    "%%sql\n",
    "Create table Books (\n",
    "    BookID INT Primary Key Not Null,\n",
    "    Title VARCHAR(255) Not Null,\n",
    "    Author VARCHAR(255) Not Null,\n",
    "    Genre VARCHAR(50) Not Null,\n",
    "    Pulication_Year INT Not Null,\n",
    "    Price FLOAT(10,2) Not Null\n",
    ")"
   ]
  },
  {
   "cell_type": "code",
   "execution_count": 53,
   "metadata": {},
   "outputs": [
    {
     "name": "stdout",
     "output_type": "stream",
     "text": [
      " * sqlite:///sql-database.db\n",
      "Done.\n"
     ]
    },
    {
     "data": {
      "text/html": [
       "<table>\n",
       "    <thead>\n",
       "        <tr>\n",
       "            <th>name</th>\n",
       "        </tr>\n",
       "    </thead>\n",
       "    <tbody>\n",
       "    </tbody>\n",
       "</table>"
      ],
      "text/plain": [
       "[]"
      ]
     },
     "execution_count": 53,
     "metadata": {},
     "output_type": "execute_result"
    }
   ],
   "source": [
    "%%sql\n",
    "SELECT name FROM sqlite_master WHERE type='Books';"
   ]
  },
  {
   "cell_type": "code",
   "execution_count": 54,
   "metadata": {},
   "outputs": [
    {
     "name": "stdout",
     "output_type": "stream",
     "text": [
      " * sqlite:///sql-database.db\n",
      "Done.\n"
     ]
    },
    {
     "data": {
      "text/html": [
       "<table>\n",
       "    <thead>\n",
       "        <tr>\n",
       "            <th>cid</th>\n",
       "            <th>name</th>\n",
       "            <th>type</th>\n",
       "            <th>notnull</th>\n",
       "            <th>dflt_value</th>\n",
       "            <th>pk</th>\n",
       "        </tr>\n",
       "    </thead>\n",
       "    <tbody>\n",
       "        <tr>\n",
       "            <td>0</td>\n",
       "            <td>BookID</td>\n",
       "            <td>INT</td>\n",
       "            <td>1</td>\n",
       "            <td>None</td>\n",
       "            <td>1</td>\n",
       "        </tr>\n",
       "        <tr>\n",
       "            <td>1</td>\n",
       "            <td>Title</td>\n",
       "            <td>VARCHAR(255)</td>\n",
       "            <td>1</td>\n",
       "            <td>None</td>\n",
       "            <td>0</td>\n",
       "        </tr>\n",
       "        <tr>\n",
       "            <td>2</td>\n",
       "            <td>Author</td>\n",
       "            <td>VARCHAR(255)</td>\n",
       "            <td>1</td>\n",
       "            <td>None</td>\n",
       "            <td>0</td>\n",
       "        </tr>\n",
       "        <tr>\n",
       "            <td>3</td>\n",
       "            <td>Genre</td>\n",
       "            <td>VARCHAR(50)</td>\n",
       "            <td>1</td>\n",
       "            <td>None</td>\n",
       "            <td>0</td>\n",
       "        </tr>\n",
       "        <tr>\n",
       "            <td>4</td>\n",
       "            <td>Pulication_Year</td>\n",
       "            <td>INT</td>\n",
       "            <td>1</td>\n",
       "            <td>None</td>\n",
       "            <td>0</td>\n",
       "        </tr>\n",
       "        <tr>\n",
       "            <td>5</td>\n",
       "            <td>Price</td>\n",
       "            <td>FLOAT(10,2)</td>\n",
       "            <td>1</td>\n",
       "            <td>None</td>\n",
       "            <td>0</td>\n",
       "        </tr>\n",
       "    </tbody>\n",
       "</table>"
      ],
      "text/plain": [
       "[(0, 'BookID', 'INT', 1, None, 1),\n",
       " (1, 'Title', 'VARCHAR(255)', 1, None, 0),\n",
       " (2, 'Author', 'VARCHAR(255)', 1, None, 0),\n",
       " (3, 'Genre', 'VARCHAR(50)', 1, None, 0),\n",
       " (4, 'Pulication_Year', 'INT', 1, None, 0),\n",
       " (5, 'Price', 'FLOAT(10,2)', 1, None, 0)]"
      ]
     },
     "execution_count": 54,
     "metadata": {},
     "output_type": "execute_result"
    }
   ],
   "source": [
    "%%sql\n",
    "PRAGMA table_info('Books');"
   ]
  },
  {
   "cell_type": "code",
   "execution_count": 16,
   "metadata": {},
   "outputs": [
    {
     "name": "stdout",
     "output_type": "stream",
     "text": [
      " * sqlite:///sql-database.db\n",
      "Done.\n"
     ]
    },
    {
     "data": {
      "text/plain": [
       "[]"
      ]
     },
     "execution_count": 16,
     "metadata": {},
     "output_type": "execute_result"
    }
   ],
   "source": [
    "%sql DROP TABLE Books;"
   ]
  },
  {
   "cell_type": "code",
   "execution_count": 17,
   "metadata": {},
   "outputs": [
    {
     "name": "stdout",
     "output_type": "stream",
     "text": [
      " * sqlite:///sql-database.db\n",
      "Done.\n"
     ]
    },
    {
     "data": {
      "text/html": [
       "<table>\n",
       "    <thead>\n",
       "        <tr>\n",
       "            <th>name</th>\n",
       "        </tr>\n",
       "    </thead>\n",
       "    <tbody>\n",
       "    </tbody>\n",
       "</table>"
      ],
      "text/plain": [
       "[]"
      ]
     },
     "execution_count": 17,
     "metadata": {},
     "output_type": "execute_result"
    }
   ],
   "source": [
    "%%sql\n",
    "SELECT name FROM sqlite_master WHERE type='Books';"
   ]
  },
  {
   "cell_type": "code",
   "execution_count": 18,
   "metadata": {},
   "outputs": [
    {
     "name": "stdout",
     "output_type": "stream",
     "text": [
      " * sqlite:///sql-database.db\n",
      "Done.\n"
     ]
    },
    {
     "data": {
      "text/html": [
       "<table>\n",
       "    <thead>\n",
       "        <tr>\n",
       "            <th>cid</th>\n",
       "            <th>name</th>\n",
       "            <th>type</th>\n",
       "            <th>notnull</th>\n",
       "            <th>dflt_value</th>\n",
       "            <th>pk</th>\n",
       "        </tr>\n",
       "    </thead>\n",
       "    <tbody>\n",
       "    </tbody>\n",
       "</table>"
      ],
      "text/plain": [
       "[]"
      ]
     },
     "execution_count": 18,
     "metadata": {},
     "output_type": "execute_result"
    }
   ],
   "source": [
    "%%sql\n",
    "PRAGMA table_info('Books');"
   ]
  },
  {
   "cell_type": "code",
   "execution_count": 19,
   "metadata": {},
   "outputs": [
    {
     "name": "stdout",
     "output_type": "stream",
     "text": [
      " * sqlite:///sql-database.db\n",
      "Done.\n"
     ]
    },
    {
     "data": {
      "text/plain": [
       "[]"
      ]
     },
     "execution_count": 19,
     "metadata": {},
     "output_type": "execute_result"
    }
   ],
   "source": [
    "%%sql\n",
    "Create table Books (\n",
    "    BookID INT Primary Key Not Null,\n",
    "    Title VARCHAR(255) Not Null,\n",
    "    Author VARCHAR(255) Not Null,\n",
    "    Genre VARCHAR(50) Not Null,\n",
    "    Publication_Year INT Not Null,\n",
    "    Price FLOAT(10,2) Not Null\n",
    ")"
   ]
  },
  {
   "cell_type": "code",
   "execution_count": 20,
   "metadata": {},
   "outputs": [
    {
     "name": "stdout",
     "output_type": "stream",
     "text": [
      " * sqlite:///sql-database.db\n",
      "Done.\n"
     ]
    },
    {
     "data": {
      "text/html": [
       "<table>\n",
       "    <thead>\n",
       "        <tr>\n",
       "            <th>name</th>\n",
       "        </tr>\n",
       "    </thead>\n",
       "    <tbody>\n",
       "    </tbody>\n",
       "</table>"
      ],
      "text/plain": [
       "[]"
      ]
     },
     "execution_count": 20,
     "metadata": {},
     "output_type": "execute_result"
    }
   ],
   "source": [
    "%%sql\n",
    "Select name from sqlite_master where type = 'Books';"
   ]
  },
  {
   "cell_type": "code",
   "execution_count": 21,
   "metadata": {},
   "outputs": [
    {
     "name": "stdout",
     "output_type": "stream",
     "text": [
      " * sqlite:///sql-database.db\n",
      "Done.\n"
     ]
    },
    {
     "data": {
      "text/html": [
       "<table>\n",
       "    <thead>\n",
       "        <tr>\n",
       "            <th>cid</th>\n",
       "            <th>name</th>\n",
       "            <th>type</th>\n",
       "            <th>notnull</th>\n",
       "            <th>dflt_value</th>\n",
       "            <th>pk</th>\n",
       "        </tr>\n",
       "    </thead>\n",
       "    <tbody>\n",
       "        <tr>\n",
       "            <td>0</td>\n",
       "            <td>BookID</td>\n",
       "            <td>INT</td>\n",
       "            <td>1</td>\n",
       "            <td>None</td>\n",
       "            <td>1</td>\n",
       "        </tr>\n",
       "        <tr>\n",
       "            <td>1</td>\n",
       "            <td>Title</td>\n",
       "            <td>VARCHAR(255)</td>\n",
       "            <td>1</td>\n",
       "            <td>None</td>\n",
       "            <td>0</td>\n",
       "        </tr>\n",
       "        <tr>\n",
       "            <td>2</td>\n",
       "            <td>Author</td>\n",
       "            <td>VARCHAR(255)</td>\n",
       "            <td>1</td>\n",
       "            <td>None</td>\n",
       "            <td>0</td>\n",
       "        </tr>\n",
       "        <tr>\n",
       "            <td>3</td>\n",
       "            <td>Genre</td>\n",
       "            <td>VARCHAR(50)</td>\n",
       "            <td>1</td>\n",
       "            <td>None</td>\n",
       "            <td>0</td>\n",
       "        </tr>\n",
       "        <tr>\n",
       "            <td>4</td>\n",
       "            <td>Publication_Year</td>\n",
       "            <td>INT</td>\n",
       "            <td>1</td>\n",
       "            <td>None</td>\n",
       "            <td>0</td>\n",
       "        </tr>\n",
       "        <tr>\n",
       "            <td>5</td>\n",
       "            <td>Price</td>\n",
       "            <td>FLOAT(10,2)</td>\n",
       "            <td>1</td>\n",
       "            <td>None</td>\n",
       "            <td>0</td>\n",
       "        </tr>\n",
       "    </tbody>\n",
       "</table>"
      ],
      "text/plain": [
       "[(0, 'BookID', 'INT', 1, None, 1),\n",
       " (1, 'Title', 'VARCHAR(255)', 1, None, 0),\n",
       " (2, 'Author', 'VARCHAR(255)', 1, None, 0),\n",
       " (3, 'Genre', 'VARCHAR(50)', 1, None, 0),\n",
       " (4, 'Publication_Year', 'INT', 1, None, 0),\n",
       " (5, 'Price', 'FLOAT(10,2)', 1, None, 0)]"
      ]
     },
     "execution_count": 21,
     "metadata": {},
     "output_type": "execute_result"
    }
   ],
   "source": [
    "%%sql\n",
    "Pragma table_info('Books');"
   ]
  },
  {
   "cell_type": "code",
   "execution_count": 54,
   "metadata": {},
   "outputs": [
    {
     "name": "stdout",
     "output_type": "stream",
     "text": [
      " * sqlite:///sql-database.db\n",
      "(sqlite3.IntegrityError) UNIQUE constraint failed: Books.BookID\n",
      "[SQL: INSERT INTO Books (BookID, Title, Author, Genre, Publication_Year, Price)\n",
      "VALUES (1, 'Diary ng Pulubi', 'Chinkee Tan', 'Non-Fiction', 2023, 100.00),\n",
      "       (2, 'Good Morning, Lord', 'Charles Swindoll', 'Religious', 2018, 499.75),\n",
      "       (3, 'Ipon is Life', 'Chinkee Tan', 'Non-Fiction', 2019, 99.75);]\n",
      "(Background on this error at: https://sqlalche.me/e/20/gkpj)\n"
     ]
    }
   ],
   "source": [
    "%%sql\n",
    "INSERT INTO Books (BookID, Title, Author, Genre, Publication_Year, Price)\n",
    "VALUES (1, 'Diary ng Pulubi', 'Chinkee Tan', 'Non-Fiction', 2023, 100.00),\n",
    "       (2, 'Good Morning, Lord', 'Charles Swindoll', 'Religious', 2018, 499.75),\n",
    "       (3, 'Ipon is Life', 'Chinkee Tan', 'Non-Fiction', 2019, 99.75);"
   ]
  },
  {
   "cell_type": "code",
   "execution_count": 56,
   "metadata": {},
   "outputs": [
    {
     "name": "stdout",
     "output_type": "stream",
     "text": [
      " * sqlite:///sql-database.db\n",
      "Done.\n"
     ]
    },
    {
     "data": {
      "text/html": [
       "<table>\n",
       "    <thead>\n",
       "        <tr>\n",
       "            <th>BookID</th>\n",
       "            <th>Title</th>\n",
       "            <th>Author</th>\n",
       "            <th>Genre</th>\n",
       "            <th>Publication_Year</th>\n",
       "            <th>Price</th>\n",
       "        </tr>\n",
       "    </thead>\n",
       "    <tbody>\n",
       "        <tr>\n",
       "            <td>100</td>\n",
       "            <td>Diary ng Pulubi</td>\n",
       "            <td>Chinkee Tan</td>\n",
       "            <td>Non-Fiction</td>\n",
       "            <td>2023</td>\n",
       "            <td>100.0</td>\n",
       "        </tr>\n",
       "        <tr>\n",
       "            <td>1</td>\n",
       "            <td>Diary ng Pulubi</td>\n",
       "            <td>Chinkee Tan</td>\n",
       "            <td>Non-Fiction</td>\n",
       "            <td>2023</td>\n",
       "            <td>100.0</td>\n",
       "        </tr>\n",
       "        <tr>\n",
       "            <td>2</td>\n",
       "            <td>Good Morning, Lord</td>\n",
       "            <td>Charles Swindoll</td>\n",
       "            <td>Religious</td>\n",
       "            <td>2018</td>\n",
       "            <td>499.75</td>\n",
       "        </tr>\n",
       "        <tr>\n",
       "            <td>3</td>\n",
       "            <td>Ipon is Life</td>\n",
       "            <td>Chinkee Tan</td>\n",
       "            <td>Non-Fiction</td>\n",
       "            <td>2019</td>\n",
       "            <td>99.75</td>\n",
       "        </tr>\n",
       "        <tr>\n",
       "            <td>11</td>\n",
       "            <td>Diary ng Pulubi</td>\n",
       "            <td>Chinkee Tan</td>\n",
       "            <td>Non-Fiction</td>\n",
       "            <td>2023</td>\n",
       "            <td>100.0</td>\n",
       "        </tr>\n",
       "        <tr>\n",
       "            <td>12</td>\n",
       "            <td>Good Morning, Lord</td>\n",
       "            <td>Charles Swindoll</td>\n",
       "            <td>Religious</td>\n",
       "            <td>2018</td>\n",
       "            <td>499.75</td>\n",
       "        </tr>\n",
       "        <tr>\n",
       "            <td>13</td>\n",
       "            <td>Ipon is Life</td>\n",
       "            <td>Chinkee Tan</td>\n",
       "            <td>Non-Fiction</td>\n",
       "            <td>2019</td>\n",
       "            <td>99.75</td>\n",
       "        </tr>\n",
       "        <tr>\n",
       "            <td>111</td>\n",
       "            <td>Diary ng Pulubi</td>\n",
       "            <td>Chinkee Tan</td>\n",
       "            <td>Non-Fiction</td>\n",
       "            <td>2023</td>\n",
       "            <td>100.0</td>\n",
       "        </tr>\n",
       "        <tr>\n",
       "            <td>112</td>\n",
       "            <td>Good Morning, Lord</td>\n",
       "            <td>Charles Swindoll</td>\n",
       "            <td>Religious</td>\n",
       "            <td>2018</td>\n",
       "            <td>499.75</td>\n",
       "        </tr>\n",
       "        <tr>\n",
       "            <td>113</td>\n",
       "            <td>Ipon is Life</td>\n",
       "            <td>Chinkee Tan</td>\n",
       "            <td>Non-Fiction</td>\n",
       "            <td>2019</td>\n",
       "            <td>99.75</td>\n",
       "        </tr>\n",
       "        <tr>\n",
       "            <td>101</td>\n",
       "            <td>Diary ng Pulubi</td>\n",
       "            <td>Chinkee Tan</td>\n",
       "            <td>Non-Fiction</td>\n",
       "            <td>2023</td>\n",
       "            <td>100.0</td>\n",
       "        </tr>\n",
       "        <tr>\n",
       "            <td>102</td>\n",
       "            <td>Good Morning, Lord</td>\n",
       "            <td>Charles Swindoll</td>\n",
       "            <td>Religious</td>\n",
       "            <td>2018</td>\n",
       "            <td>499.75</td>\n",
       "        </tr>\n",
       "        <tr>\n",
       "            <td>103</td>\n",
       "            <td>Ipon is Life</td>\n",
       "            <td>Chinkee Tan</td>\n",
       "            <td>Non-Fiction</td>\n",
       "            <td>2019</td>\n",
       "            <td>99.75</td>\n",
       "        </tr>\n",
       "    </tbody>\n",
       "</table>"
      ],
      "text/plain": [
       "[(100, 'Diary ng Pulubi', 'Chinkee Tan', 'Non-Fiction', 2023, 100.0),\n",
       " (1, 'Diary ng Pulubi', 'Chinkee Tan', 'Non-Fiction', 2023, 100.0),\n",
       " (2, 'Good Morning, Lord', 'Charles Swindoll', 'Religious', 2018, 499.75),\n",
       " (3, 'Ipon is Life', 'Chinkee Tan', 'Non-Fiction', 2019, 99.75),\n",
       " (11, 'Diary ng Pulubi', 'Chinkee Tan', 'Non-Fiction', 2023, 100.0),\n",
       " (12, 'Good Morning, Lord', 'Charles Swindoll', 'Religious', 2018, 499.75),\n",
       " (13, 'Ipon is Life', 'Chinkee Tan', 'Non-Fiction', 2019, 99.75),\n",
       " (111, 'Diary ng Pulubi', 'Chinkee Tan', 'Non-Fiction', 2023, 100.0),\n",
       " (112, 'Good Morning, Lord', 'Charles Swindoll', 'Religious', 2018, 499.75),\n",
       " (113, 'Ipon is Life', 'Chinkee Tan', 'Non-Fiction', 2019, 99.75),\n",
       " (101, 'Diary ng Pulubi', 'Chinkee Tan', 'Non-Fiction', 2023, 100.0),\n",
       " (102, 'Good Morning, Lord', 'Charles Swindoll', 'Religious', 2018, 499.75),\n",
       " (103, 'Ipon is Life', 'Chinkee Tan', 'Non-Fiction', 2019, 99.75)]"
      ]
     },
     "execution_count": 56,
     "metadata": {},
     "output_type": "execute_result"
    }
   ],
   "source": [
    "%%sql\n",
    "SELECT * FROM Books;"
   ]
  },
  {
   "cell_type": "code",
   "execution_count": 58,
   "metadata": {},
   "outputs": [
    {
     "name": "stdout",
     "output_type": "stream",
     "text": [
      " * sqlite:///sql-database.db\n",
      "1 rows affected.\n"
     ]
    },
    {
     "data": {
      "text/plain": [
       "[]"
      ]
     },
     "execution_count": 58,
     "metadata": {},
     "output_type": "execute_result"
    }
   ],
   "source": [
    "%%sql\n",
    "DELETE FROM Books WHERE BookID = 100;"
   ]
  },
  {
   "cell_type": "code",
   "execution_count": 60,
   "metadata": {},
   "outputs": [
    {
     "name": "stdout",
     "output_type": "stream",
     "text": [
      " * sqlite:///sql-database.db\n",
      "3 rows affected.\n"
     ]
    },
    {
     "data": {
      "text/plain": [
       "[]"
      ]
     },
     "execution_count": 60,
     "metadata": {},
     "output_type": "execute_result"
    }
   ],
   "source": [
    "%%sql\n",
    "DELETE FROM Books WHERE BookID IN (1, 2, 3);"
   ]
  },
  {
   "cell_type": "code",
   "execution_count": 61,
   "metadata": {},
   "outputs": [
    {
     "name": "stdout",
     "output_type": "stream",
     "text": [
      " * sqlite:///sql-database.db\n",
      "Done.\n"
     ]
    },
    {
     "data": {
      "text/html": [
       "<table>\n",
       "    <thead>\n",
       "        <tr>\n",
       "            <th>BookID</th>\n",
       "            <th>Title</th>\n",
       "            <th>Author</th>\n",
       "            <th>Genre</th>\n",
       "            <th>Publication_Year</th>\n",
       "            <th>Price</th>\n",
       "        </tr>\n",
       "    </thead>\n",
       "    <tbody>\n",
       "        <tr>\n",
       "            <td>11</td>\n",
       "            <td>Diary ng Pulubi</td>\n",
       "            <td>Chinkee Tan</td>\n",
       "            <td>Non-Fiction</td>\n",
       "            <td>2023</td>\n",
       "            <td>100.0</td>\n",
       "        </tr>\n",
       "        <tr>\n",
       "            <td>12</td>\n",
       "            <td>Good Morning, Lord</td>\n",
       "            <td>Charles Swindoll</td>\n",
       "            <td>Religious</td>\n",
       "            <td>2018</td>\n",
       "            <td>499.75</td>\n",
       "        </tr>\n",
       "        <tr>\n",
       "            <td>13</td>\n",
       "            <td>Ipon is Life</td>\n",
       "            <td>Chinkee Tan</td>\n",
       "            <td>Non-Fiction</td>\n",
       "            <td>2019</td>\n",
       "            <td>99.75</td>\n",
       "        </tr>\n",
       "        <tr>\n",
       "            <td>111</td>\n",
       "            <td>Diary ng Pulubi</td>\n",
       "            <td>Chinkee Tan</td>\n",
       "            <td>Non-Fiction</td>\n",
       "            <td>2023</td>\n",
       "            <td>100.0</td>\n",
       "        </tr>\n",
       "        <tr>\n",
       "            <td>112</td>\n",
       "            <td>Good Morning, Lord</td>\n",
       "            <td>Charles Swindoll</td>\n",
       "            <td>Religious</td>\n",
       "            <td>2018</td>\n",
       "            <td>499.75</td>\n",
       "        </tr>\n",
       "        <tr>\n",
       "            <td>113</td>\n",
       "            <td>Ipon is Life</td>\n",
       "            <td>Chinkee Tan</td>\n",
       "            <td>Non-Fiction</td>\n",
       "            <td>2019</td>\n",
       "            <td>99.75</td>\n",
       "        </tr>\n",
       "        <tr>\n",
       "            <td>101</td>\n",
       "            <td>Diary ng Pulubi</td>\n",
       "            <td>Chinkee Tan</td>\n",
       "            <td>Non-Fiction</td>\n",
       "            <td>2023</td>\n",
       "            <td>100.0</td>\n",
       "        </tr>\n",
       "        <tr>\n",
       "            <td>102</td>\n",
       "            <td>Good Morning, Lord</td>\n",
       "            <td>Charles Swindoll</td>\n",
       "            <td>Religious</td>\n",
       "            <td>2018</td>\n",
       "            <td>499.75</td>\n",
       "        </tr>\n",
       "        <tr>\n",
       "            <td>103</td>\n",
       "            <td>Ipon is Life</td>\n",
       "            <td>Chinkee Tan</td>\n",
       "            <td>Non-Fiction</td>\n",
       "            <td>2019</td>\n",
       "            <td>99.75</td>\n",
       "        </tr>\n",
       "    </tbody>\n",
       "</table>"
      ],
      "text/plain": [
       "[(11, 'Diary ng Pulubi', 'Chinkee Tan', 'Non-Fiction', 2023, 100.0),\n",
       " (12, 'Good Morning, Lord', 'Charles Swindoll', 'Religious', 2018, 499.75),\n",
       " (13, 'Ipon is Life', 'Chinkee Tan', 'Non-Fiction', 2019, 99.75),\n",
       " (111, 'Diary ng Pulubi', 'Chinkee Tan', 'Non-Fiction', 2023, 100.0),\n",
       " (112, 'Good Morning, Lord', 'Charles Swindoll', 'Religious', 2018, 499.75),\n",
       " (113, 'Ipon is Life', 'Chinkee Tan', 'Non-Fiction', 2019, 99.75),\n",
       " (101, 'Diary ng Pulubi', 'Chinkee Tan', 'Non-Fiction', 2023, 100.0),\n",
       " (102, 'Good Morning, Lord', 'Charles Swindoll', 'Religious', 2018, 499.75),\n",
       " (103, 'Ipon is Life', 'Chinkee Tan', 'Non-Fiction', 2019, 99.75)]"
      ]
     },
     "execution_count": 61,
     "metadata": {},
     "output_type": "execute_result"
    }
   ],
   "source": [
    "%%sql\n",
    "SELECT * FROM Books;"
   ]
  },
  {
   "cell_type": "code",
   "execution_count": 63,
   "metadata": {},
   "outputs": [
    {
     "name": "stdout",
     "output_type": "stream",
     "text": [
      " * sqlite:///sql-database.db\n",
      "6 rows affected.\n"
     ]
    },
    {
     "data": {
      "text/plain": [
       "[]"
      ]
     },
     "execution_count": 63,
     "metadata": {},
     "output_type": "execute_result"
    }
   ],
   "source": [
    "%%sql\n",
    "DELETE FROM Books WHERE BookID IN (11, 12, 13, 111, 112, 113);"
   ]
  },
  {
   "cell_type": "code",
   "execution_count": 64,
   "metadata": {},
   "outputs": [
    {
     "name": "stdout",
     "output_type": "stream",
     "text": [
      " * sqlite:///sql-database.db\n",
      "Done.\n"
     ]
    },
    {
     "data": {
      "text/html": [
       "<table>\n",
       "    <thead>\n",
       "        <tr>\n",
       "            <th>BookID</th>\n",
       "            <th>Title</th>\n",
       "            <th>Author</th>\n",
       "            <th>Genre</th>\n",
       "            <th>Publication_Year</th>\n",
       "            <th>Price</th>\n",
       "        </tr>\n",
       "    </thead>\n",
       "    <tbody>\n",
       "        <tr>\n",
       "            <td>101</td>\n",
       "            <td>Diary ng Pulubi</td>\n",
       "            <td>Chinkee Tan</td>\n",
       "            <td>Non-Fiction</td>\n",
       "            <td>2023</td>\n",
       "            <td>100.0</td>\n",
       "        </tr>\n",
       "        <tr>\n",
       "            <td>102</td>\n",
       "            <td>Good Morning, Lord</td>\n",
       "            <td>Charles Swindoll</td>\n",
       "            <td>Religious</td>\n",
       "            <td>2018</td>\n",
       "            <td>499.75</td>\n",
       "        </tr>\n",
       "        <tr>\n",
       "            <td>103</td>\n",
       "            <td>Ipon is Life</td>\n",
       "            <td>Chinkee Tan</td>\n",
       "            <td>Non-Fiction</td>\n",
       "            <td>2019</td>\n",
       "            <td>99.75</td>\n",
       "        </tr>\n",
       "    </tbody>\n",
       "</table>"
      ],
      "text/plain": [
       "[(101, 'Diary ng Pulubi', 'Chinkee Tan', 'Non-Fiction', 2023, 100.0),\n",
       " (102, 'Good Morning, Lord', 'Charles Swindoll', 'Religious', 2018, 499.75),\n",
       " (103, 'Ipon is Life', 'Chinkee Tan', 'Non-Fiction', 2019, 99.75)]"
      ]
     },
     "execution_count": 64,
     "metadata": {},
     "output_type": "execute_result"
    }
   ],
   "source": [
    "%%sql\n",
    "SELECT * FROM Books;"
   ]
  },
  {
   "cell_type": "code",
   "execution_count": 65,
   "metadata": {},
   "outputs": [
    {
     "name": "stdout",
     "output_type": "stream",
     "text": [
      " * sqlite:///sql-database.db\n",
      "1 rows affected.\n"
     ]
    },
    {
     "data": {
      "text/plain": [
       "[]"
      ]
     },
     "execution_count": 65,
     "metadata": {},
     "output_type": "execute_result"
    }
   ],
   "source": [
    "%%sql\n",
    "UPDATE Books SET Price = 199.75 WHERE BookID = 101;"
   ]
  },
  {
   "cell_type": "code",
   "execution_count": 66,
   "metadata": {},
   "outputs": [
    {
     "name": "stdout",
     "output_type": "stream",
     "text": [
      " * sqlite:///sql-database.db\n",
      "Done.\n"
     ]
    },
    {
     "data": {
      "text/html": [
       "<table>\n",
       "    <thead>\n",
       "        <tr>\n",
       "            <th>BookID</th>\n",
       "            <th>Title</th>\n",
       "            <th>Author</th>\n",
       "            <th>Genre</th>\n",
       "            <th>Publication_Year</th>\n",
       "            <th>Price</th>\n",
       "        </tr>\n",
       "    </thead>\n",
       "    <tbody>\n",
       "        <tr>\n",
       "            <td>101</td>\n",
       "            <td>Diary ng Pulubi</td>\n",
       "            <td>Chinkee Tan</td>\n",
       "            <td>Non-Fiction</td>\n",
       "            <td>2023</td>\n",
       "            <td>199.75</td>\n",
       "        </tr>\n",
       "        <tr>\n",
       "            <td>102</td>\n",
       "            <td>Good Morning, Lord</td>\n",
       "            <td>Charles Swindoll</td>\n",
       "            <td>Religious</td>\n",
       "            <td>2018</td>\n",
       "            <td>499.75</td>\n",
       "        </tr>\n",
       "        <tr>\n",
       "            <td>103</td>\n",
       "            <td>Ipon is Life</td>\n",
       "            <td>Chinkee Tan</td>\n",
       "            <td>Non-Fiction</td>\n",
       "            <td>2019</td>\n",
       "            <td>99.75</td>\n",
       "        </tr>\n",
       "    </tbody>\n",
       "</table>"
      ],
      "text/plain": [
       "[(101, 'Diary ng Pulubi', 'Chinkee Tan', 'Non-Fiction', 2023, 199.75),\n",
       " (102, 'Good Morning, Lord', 'Charles Swindoll', 'Religious', 2018, 499.75),\n",
       " (103, 'Ipon is Life', 'Chinkee Tan', 'Non-Fiction', 2019, 99.75)]"
      ]
     },
     "execution_count": 66,
     "metadata": {},
     "output_type": "execute_result"
    }
   ],
   "source": [
    "%%sql\n",
    "SELECT * FROM Books;"
   ]
  },
  {
   "cell_type": "code",
   "execution_count": 67,
   "metadata": {},
   "outputs": [
    {
     "name": "stdout",
     "output_type": "stream",
     "text": [
      " * sqlite:///sql-database.db\n",
      "1 rows affected.\n"
     ]
    },
    {
     "data": {
      "text/plain": [
       "[]"
      ]
     },
     "execution_count": 67,
     "metadata": {},
     "output_type": "execute_result"
    }
   ],
   "source": [
    "%%sql\n",
    "DELETE FROM Books WHERE BookID = 103;"
   ]
  },
  {
   "cell_type": "code",
   "execution_count": 68,
   "metadata": {},
   "outputs": [
    {
     "name": "stdout",
     "output_type": "stream",
     "text": [
      " * sqlite:///sql-database.db\n",
      "Done.\n"
     ]
    },
    {
     "data": {
      "text/html": [
       "<table>\n",
       "    <thead>\n",
       "        <tr>\n",
       "            <th>BookID</th>\n",
       "            <th>Title</th>\n",
       "            <th>Author</th>\n",
       "            <th>Genre</th>\n",
       "            <th>Publication_Year</th>\n",
       "            <th>Price</th>\n",
       "        </tr>\n",
       "    </thead>\n",
       "    <tbody>\n",
       "        <tr>\n",
       "            <td>101</td>\n",
       "            <td>Diary ng Pulubi</td>\n",
       "            <td>Chinkee Tan</td>\n",
       "            <td>Non-Fiction</td>\n",
       "            <td>2023</td>\n",
       "            <td>199.75</td>\n",
       "        </tr>\n",
       "        <tr>\n",
       "            <td>102</td>\n",
       "            <td>Good Morning, Lord</td>\n",
       "            <td>Charles Swindoll</td>\n",
       "            <td>Religious</td>\n",
       "            <td>2018</td>\n",
       "            <td>499.75</td>\n",
       "        </tr>\n",
       "    </tbody>\n",
       "</table>"
      ],
      "text/plain": [
       "[(101, 'Diary ng Pulubi', 'Chinkee Tan', 'Non-Fiction', 2023, 199.75),\n",
       " (102, 'Good Morning, Lord', 'Charles Swindoll', 'Religious', 2018, 499.75)]"
      ]
     },
     "execution_count": 68,
     "metadata": {},
     "output_type": "execute_result"
    }
   ],
   "source": [
    "%%sql\n",
    "SELECT * FROM Books;"
   ]
  },
  {
   "cell_type": "code",
   "execution_count": 5,
   "metadata": {},
   "outputs": [
    {
     "name": "stdout",
     "output_type": "stream",
     "text": [
      " * sqlite:///sql-database.db\n",
      "Done.\n"
     ]
    },
    {
     "data": {
      "text/html": [
       "<table>\n",
       "    <thead>\n",
       "        <tr>\n",
       "            <th>cid</th>\n",
       "            <th>name</th>\n",
       "            <th>type</th>\n",
       "            <th>notnull</th>\n",
       "            <th>dflt_value</th>\n",
       "            <th>pk</th>\n",
       "        </tr>\n",
       "    </thead>\n",
       "    <tbody>\n",
       "        <tr>\n",
       "            <td>0</td>\n",
       "            <td>BookID</td>\n",
       "            <td>INT</td>\n",
       "            <td>1</td>\n",
       "            <td>None</td>\n",
       "            <td>1</td>\n",
       "        </tr>\n",
       "        <tr>\n",
       "            <td>1</td>\n",
       "            <td>Title</td>\n",
       "            <td>VARCHAR(255)</td>\n",
       "            <td>1</td>\n",
       "            <td>None</td>\n",
       "            <td>0</td>\n",
       "        </tr>\n",
       "        <tr>\n",
       "            <td>2</td>\n",
       "            <td>Author</td>\n",
       "            <td>VARCHAR(255)</td>\n",
       "            <td>1</td>\n",
       "            <td>None</td>\n",
       "            <td>0</td>\n",
       "        </tr>\n",
       "        <tr>\n",
       "            <td>3</td>\n",
       "            <td>Genre</td>\n",
       "            <td>VARCHAR(50)</td>\n",
       "            <td>1</td>\n",
       "            <td>None</td>\n",
       "            <td>0</td>\n",
       "        </tr>\n",
       "        <tr>\n",
       "            <td>4</td>\n",
       "            <td>Publication_Year</td>\n",
       "            <td>INT</td>\n",
       "            <td>1</td>\n",
       "            <td>None</td>\n",
       "            <td>0</td>\n",
       "        </tr>\n",
       "        <tr>\n",
       "            <td>5</td>\n",
       "            <td>Price</td>\n",
       "            <td>FLOAT(10,2)</td>\n",
       "            <td>1</td>\n",
       "            <td>None</td>\n",
       "            <td>0</td>\n",
       "        </tr>\n",
       "    </tbody>\n",
       "</table>"
      ],
      "text/plain": [
       "[(0, 'BookID', 'INT', 1, None, 1),\n",
       " (1, 'Title', 'VARCHAR(255)', 1, None, 0),\n",
       " (2, 'Author', 'VARCHAR(255)', 1, None, 0),\n",
       " (3, 'Genre', 'VARCHAR(50)', 1, None, 0),\n",
       " (4, 'Publication_Year', 'INT', 1, None, 0),\n",
       " (5, 'Price', 'FLOAT(10,2)', 1, None, 0)]"
      ]
     },
     "execution_count": 5,
     "metadata": {},
     "output_type": "execute_result"
    }
   ],
   "source": [
    "%%sql\n",
    "Pragma table_info('Books');"
   ]
  },
  {
   "cell_type": "code",
   "execution_count": 6,
   "metadata": {},
   "outputs": [
    {
     "name": "stdout",
     "output_type": "stream",
     "text": [
      " * sqlite:///sql-database.db\n",
      "Done.\n"
     ]
    },
    {
     "data": {
      "text/plain": [
       "[]"
      ]
     },
     "execution_count": 6,
     "metadata": {},
     "output_type": "execute_result"
    }
   ],
   "source": [
    "%%sql\n",
    "ALTER TABLE Books RENAME COLUMN Genre to Genra;"
   ]
  },
  {
   "cell_type": "code",
   "execution_count": 7,
   "metadata": {},
   "outputs": [
    {
     "name": "stdout",
     "output_type": "stream",
     "text": [
      " * sqlite:///sql-database.db\n",
      "Done.\n"
     ]
    },
    {
     "data": {
      "text/html": [
       "<table>\n",
       "    <thead>\n",
       "        <tr>\n",
       "            <th>cid</th>\n",
       "            <th>name</th>\n",
       "            <th>type</th>\n",
       "            <th>notnull</th>\n",
       "            <th>dflt_value</th>\n",
       "            <th>pk</th>\n",
       "        </tr>\n",
       "    </thead>\n",
       "    <tbody>\n",
       "        <tr>\n",
       "            <td>0</td>\n",
       "            <td>BookID</td>\n",
       "            <td>INT</td>\n",
       "            <td>1</td>\n",
       "            <td>None</td>\n",
       "            <td>1</td>\n",
       "        </tr>\n",
       "        <tr>\n",
       "            <td>1</td>\n",
       "            <td>Title</td>\n",
       "            <td>VARCHAR(255)</td>\n",
       "            <td>1</td>\n",
       "            <td>None</td>\n",
       "            <td>0</td>\n",
       "        </tr>\n",
       "        <tr>\n",
       "            <td>2</td>\n",
       "            <td>Author</td>\n",
       "            <td>VARCHAR(255)</td>\n",
       "            <td>1</td>\n",
       "            <td>None</td>\n",
       "            <td>0</td>\n",
       "        </tr>\n",
       "        <tr>\n",
       "            <td>3</td>\n",
       "            <td>Genra</td>\n",
       "            <td>VARCHAR(50)</td>\n",
       "            <td>1</td>\n",
       "            <td>None</td>\n",
       "            <td>0</td>\n",
       "        </tr>\n",
       "        <tr>\n",
       "            <td>4</td>\n",
       "            <td>Publication_Year</td>\n",
       "            <td>INT</td>\n",
       "            <td>1</td>\n",
       "            <td>None</td>\n",
       "            <td>0</td>\n",
       "        </tr>\n",
       "        <tr>\n",
       "            <td>5</td>\n",
       "            <td>Price</td>\n",
       "            <td>FLOAT(10,2)</td>\n",
       "            <td>1</td>\n",
       "            <td>None</td>\n",
       "            <td>0</td>\n",
       "        </tr>\n",
       "    </tbody>\n",
       "</table>"
      ],
      "text/plain": [
       "[(0, 'BookID', 'INT', 1, None, 1),\n",
       " (1, 'Title', 'VARCHAR(255)', 1, None, 0),\n",
       " (2, 'Author', 'VARCHAR(255)', 1, None, 0),\n",
       " (3, 'Genra', 'VARCHAR(50)', 1, None, 0),\n",
       " (4, 'Publication_Year', 'INT', 1, None, 0),\n",
       " (5, 'Price', 'FLOAT(10,2)', 1, None, 0)]"
      ]
     },
     "execution_count": 7,
     "metadata": {},
     "output_type": "execute_result"
    }
   ],
   "source": [
    "%%sql\n",
    "Pragma table_info('Books');"
   ]
  },
  {
   "cell_type": "code",
   "execution_count": 8,
   "metadata": {},
   "outputs": [
    {
     "name": "stdout",
     "output_type": "stream",
     "text": [
      " * sqlite:///sql-database.db\n",
      "Done.\n"
     ]
    },
    {
     "data": {
      "text/plain": [
       "[]"
      ]
     },
     "execution_count": 8,
     "metadata": {},
     "output_type": "execute_result"
    }
   ],
   "source": [
    "%%sql\n",
    "ALTER TABLE Books RENAME COLUMN Genra to Genre;"
   ]
  },
  {
   "cell_type": "code",
   "execution_count": 9,
   "metadata": {},
   "outputs": [
    {
     "name": "stdout",
     "output_type": "stream",
     "text": [
      " * sqlite:///sql-database.db\n",
      "Done.\n"
     ]
    },
    {
     "data": {
      "text/html": [
       "<table>\n",
       "    <thead>\n",
       "        <tr>\n",
       "            <th>cid</th>\n",
       "            <th>name</th>\n",
       "            <th>type</th>\n",
       "            <th>notnull</th>\n",
       "            <th>dflt_value</th>\n",
       "            <th>pk</th>\n",
       "        </tr>\n",
       "    </thead>\n",
       "    <tbody>\n",
       "        <tr>\n",
       "            <td>0</td>\n",
       "            <td>BookID</td>\n",
       "            <td>INT</td>\n",
       "            <td>1</td>\n",
       "            <td>None</td>\n",
       "            <td>1</td>\n",
       "        </tr>\n",
       "        <tr>\n",
       "            <td>1</td>\n",
       "            <td>Title</td>\n",
       "            <td>VARCHAR(255)</td>\n",
       "            <td>1</td>\n",
       "            <td>None</td>\n",
       "            <td>0</td>\n",
       "        </tr>\n",
       "        <tr>\n",
       "            <td>2</td>\n",
       "            <td>Author</td>\n",
       "            <td>VARCHAR(255)</td>\n",
       "            <td>1</td>\n",
       "            <td>None</td>\n",
       "            <td>0</td>\n",
       "        </tr>\n",
       "        <tr>\n",
       "            <td>3</td>\n",
       "            <td>Genre</td>\n",
       "            <td>VARCHAR(50)</td>\n",
       "            <td>1</td>\n",
       "            <td>None</td>\n",
       "            <td>0</td>\n",
       "        </tr>\n",
       "        <tr>\n",
       "            <td>4</td>\n",
       "            <td>Publication_Year</td>\n",
       "            <td>INT</td>\n",
       "            <td>1</td>\n",
       "            <td>None</td>\n",
       "            <td>0</td>\n",
       "        </tr>\n",
       "        <tr>\n",
       "            <td>5</td>\n",
       "            <td>Price</td>\n",
       "            <td>FLOAT(10,2)</td>\n",
       "            <td>1</td>\n",
       "            <td>None</td>\n",
       "            <td>0</td>\n",
       "        </tr>\n",
       "    </tbody>\n",
       "</table>"
      ],
      "text/plain": [
       "[(0, 'BookID', 'INT', 1, None, 1),\n",
       " (1, 'Title', 'VARCHAR(255)', 1, None, 0),\n",
       " (2, 'Author', 'VARCHAR(255)', 1, None, 0),\n",
       " (3, 'Genre', 'VARCHAR(50)', 1, None, 0),\n",
       " (4, 'Publication_Year', 'INT', 1, None, 0),\n",
       " (5, 'Price', 'FLOAT(10,2)', 1, None, 0)]"
      ]
     },
     "execution_count": 9,
     "metadata": {},
     "output_type": "execute_result"
    }
   ],
   "source": [
    "%%sql\n",
    "Pragma table_info('Books');"
   ]
  },
  {
   "cell_type": "code",
   "execution_count": null,
   "metadata": {},
   "outputs": [],
   "source": []
  }
 ],
 "metadata": {
  "kernelspec": {
   "display_name": "Python 3",
   "language": "python",
   "name": "python3"
  },
  "language_info": {
   "codemirror_mode": {
    "name": "ipython",
    "version": 3
   },
   "file_extension": ".py",
   "mimetype": "text/x-python",
   "name": "python",
   "nbconvert_exporter": "python",
   "pygments_lexer": "ipython3",
   "version": "3.12.4"
  }
 },
 "nbformat": 4,
 "nbformat_minor": 2
}
